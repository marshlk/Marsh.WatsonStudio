{
    "metadata": {
        "language_info": {
            "codemirror_mode": {
                "version": 3, 
                "name": "ipython"
            }, 
            "nbconvert_exporter": "python", 
            "file_extension": ".py", 
            "version": "3.5.4", 
            "mimetype": "text/x-python", 
            "pygments_lexer": "ipython3", 
            "name": "python"
        }, 
        "kernelspec": {
            "display_name": "Python 3.5 with Spark", 
            "language": "python3", 
            "name": "python3"
        }
    }, 
    "nbformat": 4, 
    "cells": [
        {
            "metadata": {}, 
            "outputs": [
                {
                    "output_type": "stream", 
                    "text": "Waiting for a Spark session to start...\nSpark Initialization Done! ApplicationId = app-20180925034918-0000\n", 
                    "name": "stdout"
                }, 
                {
                    "metadata": {}, 
                    "output_type": "execute_result", 
                    "execution_count": 1, 
                    "data": {
                        "text/plain": "   Rank   Country  (%) Date of Information\n0     1  Cambodia  0.0           2011 est.\n1     2     Qatar  0.4           2014 est.\n2     3  Guernsey  0.9     March 2006 est.\n3     4  Thailand  1.0           2014 est.\n4     5   Belarus  1.0           2009 est.", 
                        "text/html": "<div>\n<style scoped>\n    .dataframe tbody tr th:only-of-type {\n        vertical-align: middle;\n    }\n\n    .dataframe tbody tr th {\n        vertical-align: top;\n    }\n\n    .dataframe thead th {\n        text-align: right;\n    }\n</style>\n<table border=\"1\" class=\"dataframe\">\n  <thead>\n    <tr style=\"text-align: right;\">\n      <th></th>\n      <th>Rank</th>\n      <th>Country</th>\n      <th>(%)</th>\n      <th>Date of Information</th>\n    </tr>\n  </thead>\n  <tbody>\n    <tr>\n      <th>0</th>\n      <td>1</td>\n      <td>Cambodia</td>\n      <td>0.0</td>\n      <td>2011 est.</td>\n    </tr>\n    <tr>\n      <th>1</th>\n      <td>2</td>\n      <td>Qatar</td>\n      <td>0.4</td>\n      <td>2014 est.</td>\n    </tr>\n    <tr>\n      <th>2</th>\n      <td>3</td>\n      <td>Guernsey</td>\n      <td>0.9</td>\n      <td>March 2006 est.</td>\n    </tr>\n    <tr>\n      <th>3</th>\n      <td>4</td>\n      <td>Thailand</td>\n      <td>1.0</td>\n      <td>2014 est.</td>\n    </tr>\n    <tr>\n      <th>4</th>\n      <td>5</td>\n      <td>Belarus</td>\n      <td>1.0</td>\n      <td>2009 est.</td>\n    </tr>\n  </tbody>\n</table>\n</div>"
                    }
                }
            ], 
            "cell_type": "code", 
            "execution_count": 1, 
            "source": "# The code was removed by Watson Studio for sharing."
        }, 
        {
            "metadata": {}, 
            "outputs": [], 
            "cell_type": "code", 
            "execution_count": null, 
            "source": ""
        }
    ], 
    "nbformat_minor": 1
}